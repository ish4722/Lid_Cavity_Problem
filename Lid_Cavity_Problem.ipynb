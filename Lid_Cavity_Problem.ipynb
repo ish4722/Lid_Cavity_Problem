{
  "nbformat": 4,
  "nbformat_minor": 0,
  "metadata": {
    "colab": {
      "provenance": [],
      "gpuType": "T4"
    },
    "kernelspec": {
      "name": "python3",
      "display_name": "Python 3"
    },
    "language_info": {
      "name": "python"
    },
    "accelerator": "GPU"
  },
  "cells": [
    {
      "cell_type": "code",
      "source": [
        "!pip -q install gradio"
      ],
      "metadata": {
        "colab": {
          "base_uri": "https://localhost:8080/"
        },
        "id": "GGsH-6y5qNNE",
        "outputId": "0ec4b978-bc31-4bf3-d051-72f43df6895a"
      },
      "execution_count": 2,
      "outputs": [
        {
          "output_type": "stream",
          "name": "stdout",
          "text": [
            "\u001b[2K   \u001b[90m━━━━━━━━━━━━━━━━━━━━━━━━━━━━━━━━━━━━━━━━\u001b[0m \u001b[32m46.9/46.9 MB\u001b[0m \u001b[31m20.6 MB/s\u001b[0m eta \u001b[36m0:00:00\u001b[0m\n",
            "\u001b[2K   \u001b[90m━━━━━━━━━━━━━━━━━━━━━━━━━━━━━━━━━━━━━━━━\u001b[0m \u001b[32m322.2/322.2 kB\u001b[0m \u001b[31m28.4 MB/s\u001b[0m eta \u001b[36m0:00:00\u001b[0m\n",
            "\u001b[2K   \u001b[90m━━━━━━━━━━━━━━━━━━━━━━━━━━━━━━━━━━━━━━━━\u001b[0m \u001b[32m95.2/95.2 kB\u001b[0m \u001b[31m8.4 MB/s\u001b[0m eta \u001b[36m0:00:00\u001b[0m\n",
            "\u001b[2K   \u001b[90m━━━━━━━━━━━━━━━━━━━━━━━━━━━━━━━━━━━━━━━━\u001b[0m \u001b[32m11.5/11.5 MB\u001b[0m \u001b[31m129.3 MB/s\u001b[0m eta \u001b[36m0:00:00\u001b[0m\n",
            "\u001b[2K   \u001b[90m━━━━━━━━━━━━━━━━━━━━━━━━━━━━━━━━━━━━━━━━\u001b[0m \u001b[32m72.0/72.0 kB\u001b[0m \u001b[31m7.1 MB/s\u001b[0m eta \u001b[36m0:00:00\u001b[0m\n",
            "\u001b[2K   \u001b[90m━━━━━━━━━━━━━━━━━━━━━━━━━━━━━━━━━━━━━━━━\u001b[0m \u001b[32m62.5/62.5 kB\u001b[0m \u001b[31m7.4 MB/s\u001b[0m eta \u001b[36m0:00:00\u001b[0m\n",
            "\u001b[?25h"
          ]
        }
      ]
    },
    {
      "cell_type": "code",
      "source": [
        "import numpy as np\n",
        "import matplotlib.pyplot as plt\n",
        "import gradio as gr\n",
        "\n",
        "def initialize(Nx, L=1.0, Wall_Velocity=1.0, mu=0.01, rho=1.0, dt=0.001):\n",
        "    Ny = Nx\n",
        "    h = L / (Nx - 1)\n",
        "    x = np.linspace(0, L, Nx)\n",
        "    y = np.linspace(0, L, Ny)\n",
        "    Vo = np.zeros((Nx, Ny))\n",
        "    St = np.zeros_like(Vo)\n",
        "    u = np.zeros_like(Vo)\n",
        "    v = np.zeros_like(Vo)\n",
        "    return Nx, Ny, L, h, x, y, Vo, St, u, v, Wall_Velocity, mu, rho, dt\n",
        "\n",
        "def apply_boundary_conditions(Vo, St, h, Wall_Velocity):\n",
        "    Nx, Ny = Vo.shape\n",
        "    Vo[:, -1] = -2 * St[:, -2] / h**2 - 2 * Wall_Velocity / h\n",
        "    Vo[:, 0]  = -2 * St[:, 1] / h**2\n",
        "    Vo[0, :]  = -2 * St[1, :] / h**2\n",
        "    Vo[-1, :] = -2 * St[-2, :] / h**2\n",
        "    return Vo\n",
        "\n",
        "def solve_vorticity_transport(Vo, St, h, mu, rho, dt):\n",
        "    Vop = Vo.copy()\n",
        "    Vo[1:-1, 1:-1] = Vop[1:-1, 1:-1] + dt * (\n",
        "        (- (St[1:-1, 2:] - St[1:-1, :-2]) / (2 * h)) * (Vop[2:, 1:-1] - Vop[:-2, 1:-1]) / (2 * h) +\n",
        "        (  (St[2:, 1:-1] - St[:-2, 1:-1]) / (2 * h)) * (Vop[1:-1, 2:] - Vop[1:-1, :-2]) / (2 * h) +\n",
        "        mu / rho * (\n",
        "            Vop[2:, 1:-1] + Vop[:-2, 1:-1] + Vop[1:-1, 2:] + Vop[1:-1, :-2] - 4 * Vop[1:-1, 1:-1]\n",
        "        ) / h**2\n",
        "    )\n",
        "    return Vo\n",
        "\n",
        "def solve_stream_function(Vo, St, h):\n",
        "    St[1:-1, 1:-1] = 0.25 * (Vo[1:-1, 1:-1] * h**2 + St[2:, 1:-1] + St[:-2, 1:-1] + St[1:-1, 2:] + St[1:-1, :-2])\n",
        "    return St\n",
        "\n",
        "def compute_velocity(St, u, v, h, Wall_Velocity):\n",
        "    u[1:-1, 1:-1] = (St[1:-1, 2:] - St[1:-1, :-2]) / (2 * h)\n",
        "    v[1:-1, 1:-1] = -(St[2:, 1:-1] - St[:-2, 1:-1]) / (2 * h)\n",
        "    u[:, -1] = Wall_Velocity\n",
        "    return u, v\n",
        "\n",
        "def compute_divergence(u, v, h):\n",
        "    dudx = (u[2:, 1:-1] - u[:-2, 1:-1]) / (2 * h)\n",
        "    dvdy = (v[1:-1, 2:] - v[1:-1, :-2]) / (2 * h)\n",
        "    divergence = np.zeros_like(u)\n",
        "    divergence[1:-1, 1:-1] = dudx + dvdy\n",
        "    return divergence\n",
        "\n",
        "def lid_driven_cavity_solver(Nx=64, Wall_Velocity=1.0, mu=0.01, rho=1.0, dt=0.001, maxIt=10000, maxe=1e-7):\n",
        "    Nx, Ny, L, h, x, y, Vo, St, u, v, Wall_Velocity, mu, rho, dt = initialize(Nx, Wall_Velocity=Wall_Velocity, mu=mu, rho=rho, dt=dt)\n",
        "    for iter in range(maxIt):\n",
        "        Vo = apply_boundary_conditions(Vo, St, h, Wall_Velocity)\n",
        "        Vo_new = solve_vorticity_transport(Vo.copy(), St, h, mu, rho, dt)\n",
        "        St = solve_stream_function(Vo_new, St, h)\n",
        "        error = np.max(np.abs(Vo_new - Vo))\n",
        "        Vo = Vo_new\n",
        "        if iter > 10 and error < maxe:\n",
        "            break\n",
        "    u, v = compute_velocity(St, u, v, h, Wall_Velocity)\n",
        "    return x, y, u, v, h\n",
        "\n",
        "\n",
        "def smart_simulate(Nx, known_variable, rho, U, mu, Re, dt, maxIt):\n",
        "    L = 1.0  # domain length\n",
        "\n",
        "    # --- Smart Computation Logic ---\n",
        "    if known_variable == \"Density (ρ)\":\n",
        "        rho = Re * mu / (U * L)\n",
        "    elif known_variable == \"Wall Velocity (U)\":\n",
        "        U = Re * mu / (rho * L)\n",
        "    elif known_variable == \"Viscosity (μ)\":\n",
        "        mu = rho * U * L / Re\n",
        "    elif known_variable == \"Reynolds Number (Re)\":\n",
        "        Re = rho * U * L / mu\n",
        "\n",
        "    x, y, u, v, h = lid_driven_cavity_solver(Nx=int(Nx), Wall_Velocity=U, mu=mu, rho=rho, dt=dt, maxIt=int(maxIt))\n",
        "\n",
        "    divergence = compute_divergence(u, v, h)\n",
        "    max_div = np.max(np.abs(divergence))\n",
        "\n",
        "    X, Y = np.meshgrid(x, y, indexing='ij')\n",
        "\n",
        "    # Plot U-Velocity\n",
        "    fig1, ax1 = plt.subplots()\n",
        "    cf = ax1.contourf(x, y, u.T, 20, cmap='plasma')\n",
        "    fig1.colorbar(cf)\n",
        "    ax1.set_title(f\"U-Velocity Contour (Re={Re:.1f})\")\n",
        "    ax1.axis('scaled')\n",
        "\n",
        "    # Centerline Velocity\n",
        "    fig2, ax2 = plt.subplots()\n",
        "    ax2.plot(y, u[int(Nx) // 2, :])\n",
        "    ax2.set_title(\"Centerline u-velocity\")\n",
        "    ax2.grid()\n",
        "\n",
        "    # Streamlines\n",
        "    fig3, ax3 = plt.subplots()\n",
        "    ax3.streamplot(x, y, u.T, v.T, density=1.3, color='black')\n",
        "    ax3.set_title(\"Streamlines\")\n",
        "    ax3.axis('scaled')\n",
        "\n",
        "    # Divergence Plot\n",
        "    fig4, ax4 = plt.subplots()\n",
        "    div_plot = ax4.contourf(x, y, divergence.T, 20, cmap='coolwarm')\n",
        "    fig4.colorbar(div_plot)\n",
        "    ax4.set_title(f\"Divergence of Velocity Field\\nMax |div| = {max_div:.2e}\")\n",
        "    ax4.axis('scaled')\n",
        "\n",
        "    return fig1, fig2, fig3, fig4, f\"ρ = {rho:.4f}, U = {U:.4f}, μ = {mu:.6f}, Re = {Re:.1f}\"\n",
        "\n",
        "# --- Gradio Interface ---\n",
        "\n",
        "demo = gr.Interface(\n",
        "    fn=smart_simulate,\n",
        "    inputs=[\n",
        "        gr.Slider(16, 128, value=64, label=\"Grid Size (Nx)\"),\n",
        "        gr.Dropdown([\"Density (ρ)\", \"Wall Velocity (U)\", \"Viscosity (μ)\", \"Reynolds Number (Re)\"],\n",
        "                    value=\"Viscosity (μ)\", label=\"Select Variable to Compute\"),\n",
        "\n",
        "        gr.Number(value=1.0, label=\"Density (ρ)\"),\n",
        "        gr.Number(value=1.0, label=\"Wall Velocity (U)\"),\n",
        "        gr.Number(value=0.01, label=\"Viscosity (μ)\"),\n",
        "        gr.Number(value=100, label=\"Reynolds Number (Re)\"),\n",
        "\n",
        "        gr.Slider(0.0001, 0.01, value=0.001, step=0.0001, label=\"Time Step (dt)\"),\n",
        "        gr.Slider(1000, 50000, value=10000, step=1000, label=\"Max Iterations\")\n",
        "    ],\n",
        "    outputs=[\n",
        "        gr.Plot(label=\"U-Velocity Contour\"),\n",
        "        gr.Plot(label=\"Centerline Velocity\"),\n",
        "        gr.Plot(label=\"Streamlines\"),\n",
        "        gr.Plot(label=\"Velocity Divergence\"),\n",
        "        gr.Textbox(label=\"Computed Parameters\")\n",
        "    ],\n",
        "    title=\"2D Lid Driven Cavity Flow Simulation with Smart Parameter Linking\",\n",
        "    description=\"Select 3 known quantities (ρ, U, μ, Re) and choose the 4th to compute dynamically. Ensures physical consistency.\"\n",
        ")\n",
        "\n",
        "demo.launch()\n",
        "\n"
      ],
      "metadata": {
        "colab": {
          "base_uri": "https://localhost:8080/",
          "height": 643
        },
        "id": "yGWempiKtpby",
        "outputId": "b0d14644-9779-41d5-d2ca-3a1be26b1651"
      },
      "execution_count": 6,
      "outputs": [
        {
          "output_type": "stream",
          "name": "stdout",
          "text": [
            "It looks like you are running Gradio on a hosted a Jupyter notebook. For the Gradio app to work, sharing must be enabled. Automatically setting `share=True` (you can turn this off by setting `share=False` in `launch()` explicitly).\n",
            "\n",
            "Colab notebook detected. To show errors in colab notebook, set debug=True in launch()\n",
            "* Running on public URL: https://bb829a7bd6eb63fd4d.gradio.live\n",
            "\n",
            "This share link expires in 1 week. For free permanent hosting and GPU upgrades, run `gradio deploy` from the terminal in the working directory to deploy to Hugging Face Spaces (https://huggingface.co/spaces)\n"
          ]
        },
        {
          "output_type": "display_data",
          "data": {
            "text/plain": [
              "<IPython.core.display.HTML object>"
            ],
            "text/html": [
              "<div><iframe src=\"https://bb829a7bd6eb63fd4d.gradio.live\" width=\"100%\" height=\"500\" allow=\"autoplay; camera; microphone; clipboard-read; clipboard-write;\" frameborder=\"0\" allowfullscreen></iframe></div>"
            ]
          },
          "metadata": {}
        },
        {
          "output_type": "execute_result",
          "data": {
            "text/plain": []
          },
          "metadata": {},
          "execution_count": 6
        }
      ]
    },
    {
      "cell_type": "code",
      "source": [],
      "metadata": {
        "id": "9rWMXTZTv5jG"
      },
      "execution_count": null,
      "outputs": []
    }
  ]
}